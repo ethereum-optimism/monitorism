{
 "cells": [
  {
   "cell_type": "markdown",
   "id": "b8c20418-7ac7-450a-8ef9-9e5dafb4bc72",
   "metadata": {},
   "source": [
    "# Faultproof Withdrawals Triage Runbook\n",
    "In order to start this runbook locally please use the README located at [https://github.com/ethereum-optimism/monitorism/blob/main/op-monitorism/faultproof_withdrawals/runbooks/automated/README.md](https://github.com/ethereum-optimism/monitorism/blob/main/op-monitorism/faultproof_withdrawals/runbooks/automated/README.md)\n",
    "\n",
    "General instructions to start the runbook locally:\n",
    "```bash\n",
    "cd op-monitorism/faultproof_withdrawals/runbooks/automated/\n",
    "make start\n",
    "```\n"
   ]
  },
  {
   "cell_type": "code",
   "execution_count": 1,
   "id": "46adf20d-5de6-4f88-8c65-24e2c11f4ea6",
   "metadata": {},
   "outputs": [],
   "source": [
    "from dotenv import load_dotenv\n",
    "import os\n",
    "from web3 import Web3\n",
    "from lib.superchain import *\n",
    "from lib.web3 import *\n",
    "from pprint import pprint\n",
    "\n",
    "#parameters setup (there should be no need to change the one below)\n",
    "abi_folder_path=\"abi\"\n"
   ]
  },
  {
   "cell_type": "markdown",
   "id": "87437557",
   "metadata": {},
   "source": [
    "## setup \n",
    "In order to proceed make sure you set the parameters below.\n",
    "The url used below are the trusted nodes that are going to be used."
   ]
  },
  {
   "cell_type": "code",
   "execution_count": 2,
   "id": "1f8a7d7e",
   "metadata": {},
   "outputs": [],
   "source": [
    "#set ignore_certificate if you are using a local https\n",
    "ignore_url_certificate=True\n",
    "\n",
    "#set local nodes\n",
    "L1_GETH_URL=\"https://proxyd-l1.rpc\"\n",
    "L2_OP_NODE_URL=\"https://op-node.rpc\"\n",
    "L2_OP_GETH_URL=\"https://op-geth.rpc\"\n",
    "\n",
    "#set cahin you need to monitor\n",
    "l1_chain_name=\"mainnet\"\n",
    "l2_chain_name=\"op\""
   ]
  },
  {
   "cell_type": "markdown",
   "id": "c103440d",
   "metadata": {},
   "source": [
    "## Loading local values and superchain regsitry values"
   ]
  },
  {
   "cell_type": "code",
   "execution_count": null,
   "id": "d8621fe4",
   "metadata": {},
   "outputs": [],
   "source": [
    "superchain=get_superchain_file(l1_chain_name, l2_chain_name)\n",
    "OptimismPortalProxy=superchain[\"addresses\"][\"OptimismPortalProxy\"]\n",
    "\n",
    "print(f\"OptimismPortal2 address: https://etherscan.io/address/{OptimismPortalProxy}#readProxyContract\")\n",
    "\n",
    "web3_utility=Web3Utility(L1_GETH_URL, L2_OP_GETH_URL,L2_OP_NODE_URL,abi_folder_path, OptimismPortalProxy, ignore_certificate=ignore_url_certificate)"
   ]
  },
  {
   "cell_type": "markdown",
   "id": "e7da3911",
   "metadata": {},
   "source": [
    "# Triage alerts: \n",
    "The following actions are useful for triaging the following alerts:\n",
    "1. faultproof-withdrawal-forgery-detected\n",
    "2. faultproof-potential-withdrawal-forgery-detected\n",
    "3. faultproof-suspicious-withdrawal-forgery-detected\n",
    "\n",
    "An event is considered a forgery if any of the following conditions apply:\n",
    "1. The withdrawalHash is not present on L2. We check this by querying [L2ToL1MessagePasser](https://github.com/ethereum-optimism/optimism/blob/develop/packages/contracts-bedrock/src/L2/L2CrossDomainMessenger.sol).\n",
    "2. The [outputRoot provided](https://github.com/ethereum-optimism/optimism/blob/dd2b21ce786f4c1b722bda270348597182153c8e/packages/contracts-bedrock/src/L1/OptimismPortal2.sol#L314C15-L314C25) does not match what we see on [L2 block rootState](https://github.com/ethereum-optimism/monitorism/blob/c0b2ecdf4404888e5ceccf6ad14e35c5e5c52664/op-monitorism/faultproof_withdrawals/validator/op_node_helper.go#L47).\n",
    "\n",
    "During the triage we need to make sure that the found withdrawalHash is really a malicious one.\n",
    "\n",
    "Given a withdrawal event hash, that refers to this alert we are going to look for the corresponding game and verify the withdrawal is truly malicious."
   ]
  },
  {
   "cell_type": "code",
   "execution_count": null,
   "id": "7edae725-621a-4e1c-ba1d-e10f85ba7e02",
   "metadata": {},
   "outputs": [],
   "source": [
    "#set up one of the following variable.\n",
    "Txhash=\"\"\n",
    "\n",
    "#Txhash=\"0xf290e62898913197bc96033a29c098aeb26613d504cfa51bf5ca5ac90cca58da\" Example of a Txhash\n",
    "\n",
    "\n",
    "res=web3_utility.get_withdrawal_proven_extension_1(Txhash)\n",
    "res=res[0]\n",
    "transactionHash=res[\"transactionHash\"].hex()\n",
    "print(f\"transactionHash: 0x{transactionHash}\")\n",
    "proofSubmitter=res[\"args\"][\"proofSubmitter\"]\n",
    "print(f\"proofSubmitter: {proofSubmitter}\")\n",
    "withDrawalHash=res[\"args\"][\"withdrawalHash\"].hex()\n",
    "print(f\"withdrawalHash: 0x{withDrawalHash}\")\n",
    "\n",
    "gameData=web3_utility.get_game_data(withDrawalHash,proofSubmitter)\n",
    "print(f\"gameData: {gameData}\")\n",
    "\n",
    "if gameData[\"rootClaim\"] == gameData[\"optimism_outputAtBlock\"]:\n",
    "    print(f\"rootClaim: {gameData['rootClaim']} == optimism_outputAtBlock: {gameData['optimism_outputAtBlock']}\")\n",
    "    print(\"game claim is valid\")\n",
    "else:\n",
    "    print(f\"rootClaim: {gameData['rootClaim']} != optimism_outputAtBlock: {gameData['optimism_outputAtBlock']}\")\n",
    "    print(\"game claim is invalid\")\n",
    "\n",
    "if gameData[\"sentMessages\"] == True:\n",
    "    print(\"sentMessages: True\")\n",
    "    print(\"withdrawal present on L2\")\n",
    "\n"
   ]
  },
  {
   "cell_type": "markdown",
   "id": "df396180-1642-4c77-8f75-005d7c045b3d",
   "metadata": {},
   "source": [
    "# Triage alert: faultproof-withdrawal-forgery-detection-stalled\n",
    "This alert monitors the number of withdrawal events that are considered normal in a chain. If the number of withdrawal events goes below a specified threshold, we trigger this alert.\n",
    "\n",
    "We want to verify when it was last withdrawals on the chain. If there are no provenwithdrawals events on the chain in the last day, then we know the alert is a false positive and there is no issue with the monitor."
   ]
  },
  {
   "cell_type": "code",
   "execution_count": null,
   "id": "e32fd923-03ef-41d5-94af-7212ca36bbb9",
   "metadata": {},
   "outputs": [],
   "source": [
    "result=web3_utility.find_latest_withdrawal_event()\n",
    "\n",
    "log=result[\"log\"]\n",
    "timestamp=result[\"timestamp\"]\n",
    "\n",
    "print(f\"last withdrawal event:\\n{timestamp[\"time_since_last_withdrawal\"]} ago \\n{timestamp[\"formatted_timestamp\"]}\")\n",
    "print(f\"last withdrawal happened: \\nat block https://etherscan.io/block/{log[\"blockNumber\"]} \\nwith transaction hash https://etherscan.io/tx/0x{log[\"transactionHash\"].hex()}\")\n",
    "print(f\"check logs at: https://etherscan.io/address/{OptimismPortalProxy}#events using filter:0x798f9f13695f8f045aa5f80ed8efebb695f3c7fe65da381969f2f28bf3c60b97\")"
   ]
  }
 ],
 "metadata": {
  "kernelspec": {
   "display_name": "Python 3 (ipykernel)",
   "language": "python",
   "name": "python3"
  },
  "language_info": {
   "codemirror_mode": {
    "name": "ipython",
    "version": 3
   },
   "file_extension": ".py",
   "mimetype": "text/x-python",
   "name": "python",
   "nbconvert_exporter": "python",
   "pygments_lexer": "ipython3",
   "version": "3.12.6"
  }
 },
 "nbformat": 4,
 "nbformat_minor": 5
}
