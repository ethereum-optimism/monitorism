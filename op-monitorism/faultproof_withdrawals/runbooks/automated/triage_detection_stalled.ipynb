{
 "cells": [
  {
   "cell_type": "markdown",
   "id": "b8c20418-7ac7-450a-8ef9-9e5dafb4bc72",
   "metadata": {},
   "source": [
    "# Faultproof Withdrawals Triage Runbook\n",
    "In order to start this runbook locally please use the README located at [https://github.com/ethereum-optimism/monitorism/blob/main/op-monitorism/faultproof_withdrawals/runbooks/automated/README.md](https://github.com/ethereum-optimism/monitorism/blob/main/op-monitorism/faultproof_withdrawals/runbooks/automated/README.md)\n",
    "\n",
    "General instructions to start the runbook locally:\n",
    "```bash\n",
    "cd op-monitorism/faultproof_withdrawals/runbooks/automated/\n",
    "make start\n",
    "```\n"
   ]
  },
  {
   "cell_type": "code",
   "execution_count": null,
   "id": "46adf20d-5de6-4f88-8c65-24e2c11f4ea6",
   "metadata": {},
   "outputs": [],
   "source": [
    "from dotenv import load_dotenv\n",
    "import os\n",
    "from web3 import Web3\n",
    "from lib.superchain import *\n",
    "from lib.web3 import *\n",
    "from pprint import pprint\n",
    "from datetime import datetime, timedelta\n",
    "\n",
    "\n",
    "#parameters setup (there should be no need to change the one below)\n",
    "abi_folder_path=\"abi\"\n",
    "\n",
    "env_file = \".env\"\n",
    "if os.path.exists(env_file):\n",
    "    load_dotenv(env_file)\n",
    "    print(\"Environment variables loaded from .env file.\")\n",
    "else:\n",
    "    print(\"No .env file found. Using system environment variables. Make sure to set them up. An example .env file is provided insite the automated folder .env.example\")\n",
    "\n",
    "L1_GETH_URL = os.getenv('L1_GETH_URL')\n",
    "L2_OP_NODE_URL = os.getenv('L2_OP_NODE_URL')\n",
    "L2_OP_GETH_URL = os.getenv('L2_OP_GETH_URL')"
   ]
  },
  {
   "cell_type": "markdown",
   "id": "87437557",
   "metadata": {},
   "source": [
    "## setup \n",
    "In order to proceed make sure you set the parameters below.\n",
    "The url used below are the trusted nodes that are going to be used."
   ]
  },
  {
   "cell_type": "code",
   "execution_count": 23,
   "id": "1f8a7d7e",
   "metadata": {},
   "outputs": [],
   "source": [
    "#set ignore_certificate if you are using a local https\n",
    "ignore_url_certificate=True\n",
    "\n",
    "#set cahin you need to monitor\n",
    "l1_chain_name=\"mainnet\"\n",
    "l2_chain_name=\"op\"\n"
   ]
  },
  {
   "cell_type": "markdown",
   "id": "c103440d",
   "metadata": {},
   "source": [
    "## Loading local values and superchain regsitry values"
   ]
  },
  {
   "cell_type": "code",
   "execution_count": null,
   "id": "d8621fe4",
   "metadata": {},
   "outputs": [],
   "source": [
    "eth_scan_url=\"https://etherscan.io\"\n",
    "\n",
    "if l1_chain_name==\"sepolia\":\n",
    "    eth_scan_url=\"https://sepolia.etherscan.io\"\n",
    "    \n",
    "superchain=get_superchain_file(l1_chain_name, l2_chain_name)\n",
    "OptimismPortalProxy=superchain[\"addresses\"][\"OptimismPortalProxy\"]\n",
    "\n",
    "print(f\"OptimismPortal2 address:{eth_scan_url}/address/{OptimismPortalProxy}#readProxyContract\")\n",
    "\n",
    "web3_utility=Web3Utility(L1_GETH_URL, L2_OP_GETH_URL,L2_OP_NODE_URL,abi_folder_path, OptimismPortalProxy, ignore_certificate=ignore_url_certificate)"
   ]
  },
  {
   "cell_type": "markdown",
   "id": "df396180-1642-4c77-8f75-005d7c045b3d",
   "metadata": {},
   "source": [
    "# Triage alert: faultproof-withdrawal-forgery-detection-stalled\n",
    "This alert monitors the number of withdrawal events that are considered normal in a chain. If the number of withdrawal events goes below a specified threshold, we trigger this alert.\n",
    "\n",
    "We want to verify when it was last withdrawals on the chain. If there are no provenwithdrawals events on the chain in the last day, then we know the alert is a false positive and there is no issue with the monitor."
   ]
  },
  {
   "cell_type": "code",
   "execution_count": null,
   "id": "e32fd923-03ef-41d5-94af-7212ca36bbb9",
   "metadata": {},
   "outputs": [],
   "source": [
    "result=web3_utility.find_latest_withdrawal_event()\n",
    "\n",
    "log=result[\"log\"]\n",
    "timestamp=result[\"timestamp\"]\n",
    "\n",
    "print(f\"Last withdrawal event:\\ntimestamp: {timestamp[\"timestamp\"]} \\ntimestamp: {timestamp[\"formatted_timestamp\"]}\\n\")\n",
    "print(f\"Last withdrawal happened: \\nat block: {eth_scan_url}/block/{log[\"blockNumber\"]} \\nwith transaction hash: {eth_scan_url}/tx/0x{log[\"transactionHash\"].hex()}\")\n",
    "print(f\"Logs can be found at: {eth_scan_url}/address/{OptimismPortalProxy}#events using filter:0x798f9f13695f8f045aa5f80ed8efebb695f3c7fe65da381969f2f28bf3c60b97\")\n",
    "\n",
    "# Convert the Unix timestamp to a datetime object\n",
    "event_time = datetime.fromtimestamp(timestamp[\"timestamp\"])\n",
    "\n",
    "# Check if the event timestamp is more than 24 hours ago\n",
    "if event_time < (datetime.now() - timedelta(hours=24)):\n",
    "    print(\"\\nLast withdrawal event happened more than 24 hours ago\")\n",
    "else:\n",
    "    print(\"\\nWARNING: Last withdrawal event happened less than 24 hours ago. The monitoring may be stalled\")\n"
   ]
  },
  {
   "cell_type": "code",
   "execution_count": null,
   "id": "831a022c",
   "metadata": {},
   "outputs": [],
   "source": []
  }
 ],
 "metadata": {
  "kernelspec": {
   "display_name": ".venv",
   "language": "python",
   "name": "python3"
  },
  "language_info": {
   "codemirror_mode": {
    "name": "ipython",
    "version": 3
   },
   "file_extension": ".py",
   "mimetype": "text/x-python",
   "name": "python",
   "nbconvert_exporter": "python",
   "pygments_lexer": "ipython3",
   "version": "3.12.6"
  }
 },
 "nbformat": 4,
 "nbformat_minor": 5
}
